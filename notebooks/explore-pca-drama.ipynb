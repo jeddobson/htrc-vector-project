{
 "cells": [
  {
   "cell_type": "code",
   "execution_count": 1,
   "metadata": {},
   "outputs": [],
   "source": [
    "import csv\n",
    "import gensim.models.keyedvectors as kv\n",
    "\n",
    "from sklearn import cluster\n",
    "import numpy as np\n",
    "\n",
    "import nltk\n",
    "from nltk.corpus import stopwords\n",
    "import bz2\n",
    "\n",
    "model = kv.KeyedVectors.load_word2vec_format(bz2.open(\"../models/drama-17412.w2v.bz2\"))"
   ]
  },
  {
   "cell_type": "code",
   "execution_count": 2,
   "metadata": {},
   "outputs": [
    {
     "name": "stdout",
     "output_type": "stream",
     "text": [
      "found 520780 words in vocab\n"
     ]
    }
   ],
   "source": [
    "vocab = list(model.vocab)\n",
    "print(\"found {0} words in vocab\".format(len(vocab)))"
   ]
  },
  {
   "cell_type": "code",
   "execution_count": 3,
   "metadata": {},
   "outputs": [],
   "source": [
    "rows=list()\n",
    "# open Harvard Inquirer\n",
    "with open('../lexicons/Harvard_Inquirer-inqtabs.txt', 'rt') as csvfile:\n",
    "    reader = csv.reader(csvfile, delimiter='\\t')\n",
    "    for i,row in enumerate(reader):\n",
    "        if i == 0:\n",
    "            header = row\n",
    "        else:\n",
    "            rows.append(row)"
   ]
  },
  {
   "cell_type": "code",
   "execution_count": null,
   "metadata": {},
   "outputs": [],
   "source": []
  }
 ],
 "metadata": {
  "kernelspec": {
   "display_name": "Python 3",
   "language": "python",
   "name": "python3"
  },
  "language_info": {
   "codemirror_mode": {
    "name": "ipython",
    "version": 3
   },
   "file_extension": ".py",
   "mimetype": "text/x-python",
   "name": "python",
   "nbconvert_exporter": "python",
   "pygments_lexer": "ipython3",
   "version": "3.7.3"
  }
 },
 "nbformat": 4,
 "nbformat_minor": 4
}
