{
 "cells": [
  {
   "cell_type": "code",
   "execution_count": 1,
   "metadata": {},
   "outputs": [],
   "source": [
    "from sklearn.linear_model import LinearRegression\n",
    "import numpy as np\n",
    "import bz2\n",
    "import gensim.models.keyedvectors as kv\n",
    "import collections\n",
    "import scipy.spatial.distance as sd"
   ]
  },
  {
   "cell_type": "code",
   "execution_count": 2,
   "metadata": {},
   "outputs": [],
   "source": [
    "drama_model = kv.KeyedVectors.load_word2vec_format(bz2.open(\"../models/drama-17412-reduced.w2v.bz2\"))"
   ]
  },
  {
   "cell_type": "code",
   "execution_count": 3,
   "metadata": {},
   "outputs": [],
   "source": [
    "poetry_model = kv.KeyedVectors.load_word2vec_format(bz2.open(\"../models/poetry-56817-reduced.w2v.bz2\"))"
   ]
  },
  {
   "cell_type": "code",
   "execution_count": 4,
   "metadata": {},
   "outputs": [
    {
     "name": "stdout",
     "output_type": "stream",
     "text": [
      "common vocabulary: 59239\n"
     ]
    }
   ],
   "source": [
    "# extract common vocabulary\n",
    "common_vocab = [word for word in drama_model.vocab if word in poetry_model.vocab]\n",
    "common_vectors_drama = drama_model[common_vocab]\n",
    "common_vectors_poetry = poetry_model[common_vocab]\n",
    "print(\"common vocabulary: {0}\".format(len(common_vocab)))"
   ]
  },
  {
   "cell_type": "code",
   "execution_count": 5,
   "metadata": {},
   "outputs": [
    {
     "data": {
      "text/plain": [
       "LinearRegression()"
      ]
     },
     "execution_count": 5,
     "metadata": {},
     "output_type": "execute_result"
    }
   ],
   "source": [
    "lin_model = LinearRegression()\n",
    "lin_model.fit(common_vectors_drama, \n",
    "              common_vectors_poetry)"
   ]
  },
  {
   "cell_type": "code",
   "execution_count": 6,
   "metadata": {},
   "outputs": [],
   "source": [
    "aligned_vectors = collections.OrderedDict()\n",
    "for idx, word in enumerate(common_vocab):\n",
    "        wv = lin_model.predict(common_vectors_poetry[idx].reshape(1, -1))\n",
    "        aligned_vectors[word] = wv.reshape(-1)"
   ]
  },
  {
   "cell_type": "code",
   "execution_count": 7,
   "metadata": {},
   "outputs": [],
   "source": [
    "common_vocab = list(aligned_vectors.keys())\n",
    "aligned_vectors = np.array(list(aligned_vectors.values()))"
   ]
  },
  {
   "cell_type": "code",
   "execution_count": 8,
   "metadata": {},
   "outputs": [],
   "source": [
    "def neighbors(word,model,k=100):\n",
    "    neighbors=list()\n",
    "    idx = common_vocab.index(word)\n",
    "    vec = model[idx]\n",
    "    scores = sd.cdist([vec], model, \"cosine\")[0]\n",
    "    sorted_ids = np.argsort(scores)\n",
    "    for i in range(1, k + 1):\n",
    "        neighbors.append((common_vocab[sorted_ids[i]], scores[sorted_ids[i]]))\n",
    "    return neighbors"
   ]
  },
  {
   "cell_type": "code",
   "execution_count": 9,
   "metadata": {},
   "outputs": [],
   "source": [
    "def pairwise_distance(word1,word2,model):\n",
    "    idx1 = common_vocab.index(word1)\n",
    "    idx2 = common_vocab.index(word2)\n",
    "    dist = sd.cdist([model[idx1]], [model[idx2]], \"cosine\")[0]\n",
    "    return dist[0]"
   ]
  },
  {
   "cell_type": "code",
   "execution_count": 10,
   "metadata": {},
   "outputs": [],
   "source": [
    "def fitted_neighbors(word,k=10):\n",
    "    n0 = neighbors(word,common_vectors_drama,k)\n",
    "    n1 = neighbors(word,common_vectors_poetry,k)\n",
    "    for n,m in enumerate([n0,n1]):\n",
    "        print(\"model: {0}\".format(n))\n",
    "        for w,v in m:\n",
    "            print(w,v)\n",
    "        print(\"\\n\")\n",
    "    print(\"fitted model:\")\n",
    "    \n",
    "    for w,v in neighbors(word,aligned_vectors,k):\n",
    "        if w in [x[0] for x in n0] and w in [x[0] for x in n1]:\n",
    "            print(w,v,\"both\")\n",
    "        elif w in [x[0] for x in n0]:\n",
    "            print(w,v,\"m0\")\n",
    "        elif w in [x[0] for x in n1]:\n",
    "            print(w,v,\"m1\")\n",
    "        else:\n",
    "            print(w,v)"
   ]
  },
  {
   "cell_type": "code",
   "execution_count": 11,
   "metadata": {
    "scrolled": true
   },
   "outputs": [
    {
     "name": "stdout",
     "output_type": "stream",
     "text": [
      "model: 0\n",
      "bloom 0.5044440073448707\n",
      "fragrance 0.5677726187657668\n",
      "flower 0.5797588856030544\n",
      "bud 0.6049989790459576\n",
      "blossomed 0.6076058432176916\n",
      "blooming 0.6373277095070187\n",
      "chow 0.6603967268099505\n",
      "budding 0.6604322307464214\n",
      "crestless 0.663437859019554\n",
      "bough 0.6781377936233154\n",
      "\n",
      "\n",
      "model: 1\n",
      "bud 0.24118634940661\n",
      "flower 0.3021936429890745\n",
      "bloom 0.3079461268713415\n",
      "fragrance 0.44945727074790653\n",
      "blossomed 0.45477104058695694\n",
      "budding 0.4674032405124695\n",
      "leaf 0.48904413398097824\n",
      "fragrant 0.5170225794672134\n",
      "dew 0.5348886788240482\n",
      "april 0.5598084674488641\n",
      "\n",
      "\n",
      "fitted model:\n",
      "bud 0.2368840866762928 both\n",
      "bloom 0.24873244719099474 both\n",
      "flower 0.28641759050669025 both\n",
      "fragrance 0.38196101129357996 both\n",
      "fragrant 0.38419757980748204 m1\n",
      "blossomed 0.39885495441981467 both\n",
      "budding 0.4337430210077733 both\n",
      "bough 0.449413250941182 m0\n",
      "floweret 0.44993472963197456\n",
      "gladden 0.45416357427156406\n"
     ]
    }
   ],
   "source": [
    "fitted_neighbors(\"blossom\")"
   ]
  },
  {
   "cell_type": "code",
   "execution_count": null,
   "metadata": {},
   "outputs": [],
   "source": []
  }
 ],
 "metadata": {
  "kernelspec": {
   "display_name": "Python 3",
   "language": "python",
   "name": "python3"
  },
  "language_info": {
   "codemirror_mode": {
    "name": "ipython",
    "version": 3
   },
   "file_extension": ".py",
   "mimetype": "text/x-python",
   "name": "python",
   "nbconvert_exporter": "python",
   "pygments_lexer": "ipython3",
   "version": "3.7.5"
  }
 },
 "nbformat": 4,
 "nbformat_minor": 4
}
