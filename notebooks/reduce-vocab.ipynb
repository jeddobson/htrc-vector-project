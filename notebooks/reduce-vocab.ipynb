{
 "cells": [
  {
   "cell_type": "code",
   "execution_count": 15,
   "metadata": {},
   "outputs": [],
   "source": [
    "import csv\n",
    "import bz2\n",
    "import gensim.models.keyedvectors as kv"
   ]
  },
  {
   "cell_type": "code",
   "execution_count": 16,
   "metadata": {},
   "outputs": [],
   "source": [
    "raw_vecs = bz2.open(\"../models/poetry-56817.w2v.bz2\",'rt').readlines()"
   ]
  },
  {
   "cell_type": "code",
   "execution_count": 17,
   "metadata": {},
   "outputs": [
    {
     "name": "stdout",
     "output_type": "stream",
     "text": [
      "loaded 874564 total vectors\n"
     ]
    }
   ],
   "source": [
    "print(\"loaded {0} total vectors\".format(len(raw_vecs)))"
   ]
  },
  {
   "cell_type": "code",
   "execution_count": 18,
   "metadata": {},
   "outputs": [],
   "source": [
    "# load Harvard Inquirer terms\n",
    "rows=list()\n",
    "with open('../lexicons/Harvard_Inquirer-inqtabs.txt', 'rt') as csvfile:\n",
    "    reader = csv.reader(csvfile, delimiter='\\t')\n",
    "    for i,row in enumerate(reader):\n",
    "        if i == 0:\n",
    "            header = row\n",
    "        else:\n",
    "            rows.append(row)\n",
    "            \n",
    "# extract words and drop to lowercase\n",
    "inquirer = [w[0].lower() for w in rows]\n",
    "    \n",
    "# remove alternate meanings and reduce duplicates\n",
    "inquirer = list(set([w.split(\"#\")[0] for w in inquirer]))"
   ]
  },
  {
   "cell_type": "code",
   "execution_count": 19,
   "metadata": {},
   "outputs": [],
   "source": [
    "# Load MacOS X dictionary terms\n",
    "dict_terms = [line.rstrip() for line in open('/usr/share/dict/words')]\n",
    "dict_terms = [w.lower() for w in dict_terms]"
   ]
  },
  {
   "cell_type": "code",
   "execution_count": 20,
   "metadata": {},
   "outputs": [],
   "source": [
    "# combine vocabulary together\n",
    "combined_vocab = list(set(dict_terms + inquirer))"
   ]
  },
  {
   "cell_type": "code",
   "execution_count": 21,
   "metadata": {},
   "outputs": [
    {
     "name": "stdout",
     "output_type": "stream",
     "text": [
      "loaded 234795 total vocabulary terms\n"
     ]
    }
   ],
   "source": [
    "print(\"loaded {0} total vocabulary terms\".format(len(combined_vocab)))"
   ]
  },
  {
   "cell_type": "code",
   "execution_count": null,
   "metadata": {},
   "outputs": [],
   "source": [
    "# now create just vectors for vocabulary terms\n",
    "newvecs = list()\n",
    "for v in raw_vecs:\n",
    "    if v.split()[0] in combined_vocab:\n",
    "        newvecs.append(v)"
   ]
  },
  {
   "cell_type": "code",
   "execution_count": null,
   "metadata": {},
   "outputs": [],
   "source": [
    "# create and write header \n",
    "fp = bz2.open(\"../models/poetry-56817-reduced.w2v.bz2\",'wt')\n",
    "# preserve hard-coded vector size\n",
    "nv = len(newvecs)\n",
    "nd = 300\n",
    "\n",
    "# assemble into header line with newline character\n",
    "header = str(nv) + \" \" + str(nd) + \"\\n\"\n",
    "fp.writelines(header)\n",
    "\n",
    "# write data for the vectors\n",
    "fp.writelines(newvecs)\n",
    "fp.close()"
   ]
  },
  {
   "cell_type": "code",
   "execution_count": 10,
   "metadata": {},
   "outputs": [],
   "source": [
    "# now load and verify\n",
    "model = kv.KeyedVectors.load_word2vec_format(bz2.open(\"../models/drama-17412-reduced.w2v.bz2\"))"
   ]
  },
  {
   "cell_type": "code",
   "execution_count": 11,
   "metadata": {},
   "outputs": [
    {
     "name": "stdout",
     "output_type": "stream",
     "text": [
      "loaded 63195 total vectors\n"
     ]
    }
   ],
   "source": [
    "# verify vocab\n",
    "vocab = list(model.vocab)\n",
    "print(\"loaded {0} total vectors\".format(len(vocab)))"
   ]
  },
  {
   "cell_type": "code",
   "execution_count": 14,
   "metadata": {},
   "outputs": [
    {
     "data": {
      "text/plain": [
       "[('blue', 0.44744181632995605),\n",
       " ('gray', 0.372827410697937),\n",
       " ('grass', 0.36947953701019287),\n",
       " ('incarnadine', 0.35026347637176514),\n",
       " ('at', 0.3484750986099243),\n",
       " ('day', 0.347786009311676),\n",
       " ('four', 0.3458620607852936),\n",
       " ('hill', 0.3415071964263916),\n",
       " ('by', 0.3383297920227051),\n",
       " ('eye', 0.32951465249061584),\n",
       " ('black', 0.3286947011947632),\n",
       " ('golden', 0.3272470235824585),\n",
       " ('down', 0.3247103989124298),\n",
       " ('lawn', 0.3242352604866028),\n",
       " ('cockatoo', 0.3230116665363312),\n",
       " ('plantago', 0.32233089208602905),\n",
       " ('cerise', 0.32187095284461975),\n",
       " ('bushy', 0.32179051637649536),\n",
       " ('and', 0.3210379481315613),\n",
       " ('hall', 0.3174566626548767),\n",
       " ('as', 0.3154778480529785),\n",
       " ('fair', 0.31520888209342957),\n",
       " ('each', 0.3150211572647095),\n",
       " ('meadow', 0.31499573588371277),\n",
       " ('are', 0.30976858735084534)]"
      ]
     },
     "execution_count": 14,
     "metadata": {},
     "output_type": "execute_result"
    }
   ],
   "source": [
    "model.most_similar(\"green\",topn=25)"
   ]
  },
  {
   "cell_type": "code",
   "execution_count": null,
   "metadata": {},
   "outputs": [],
   "source": []
  }
 ],
 "metadata": {
  "kernelspec": {
   "display_name": "Python 3",
   "language": "python",
   "name": "python3"
  },
  "language_info": {
   "codemirror_mode": {
    "name": "ipython",
    "version": 3
   },
   "file_extension": ".py",
   "mimetype": "text/x-python",
   "name": "python",
   "nbconvert_exporter": "python",
   "pygments_lexer": "ipython3",
   "version": "3.7.5"
  }
 },
 "nbformat": 4,
 "nbformat_minor": 2
}
