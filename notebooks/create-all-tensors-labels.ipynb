{
 "cells": [
  {
   "cell_type": "code",
   "execution_count": 1,
   "metadata": {},
   "outputs": [],
   "source": [
    "import itertools\n",
    "import csv\n",
    "import os, sys\n",
    "import gensim\n",
    "import json\n",
    "import bz2\n",
    "import gensim.models.keyedvectors as kv\n",
    "from gensim.models import KeyedVectors"
   ]
  },
  {
   "cell_type": "code",
   "execution_count": 2,
   "metadata": {},
   "outputs": [],
   "source": [
    "rows=list()\n",
    "# open Harvard Inquirer\n",
    "with open('../lexicons/Harvard_Inquirer-inqtabs.txt', 'rt') as csvfile:\n",
    "    reader = csv.reader(csvfile, delimiter='\\t')\n",
    "    for i,row in enumerate(reader):\n",
    "        if i == 0:\n",
    "            header = row\n",
    "        else:\n",
    "            rows.append(row)\n",
    "\n",
    "# extract words of interest\n",
    "# categories = [\"Pleasur\",\"Pain\",\"Feel\",\"Arousal\", \"Polit@\", \"Relig\"]\n",
    "inquirer = dict()\n",
    "\n",
    "for c in header:\n",
    "   \n",
    "    # extract index from header\n",
    "    idx = header.index(c)\n",
    "   \n",
    "    # extract words and drop to lowercase\n",
    "    inquirer[c] = [w[0].lower() for w in rows if w[idx] != '']\n",
    "   \n",
    "    # remove alternate meanings and reduce duplicates\n",
    "    inquirer[c] = list(set([w.split(\"#\")[0] for w in inquirer[c]]))"
   ]
  },
  {
   "cell_type": "code",
   "execution_count": 11,
   "metadata": {},
   "outputs": [],
   "source": [
    "# create dictionary of terms with category as value\n",
    "all_terms = dict()\n",
    "for c in inquirer.keys():\n",
    "    for w in inquirer[c]:\n",
    "        if c not in [\"Othtags\",\"Defined\"]:\n",
    "            all_terms[w] = c"
   ]
  },
  {
   "cell_type": "code",
   "execution_count": null,
   "metadata": {},
   "outputs": [],
   "source": [
    "genre_models=list()\n",
    "input_data = [\"../models/drama-17412.w2v.bz2\",\n",
    "             \"../models/poetry-56817.w2v.bz2\"]\n",
    "\n",
    "for f in input_data:\n",
    "    model_name = os.path.basename(f).split(\".\")[0]\n",
    "    print(\"starting: {0}\".format(model_name))\n",
    "    model = kv.KeyedVectors.load_word2vec_format(bz2.open(f))\n",
    "    genre_models.append([model_name,model])"
   ]
  },
  {
   "cell_type": "code",
   "execution_count": null,
   "metadata": {},
   "outputs": [],
   "source": [
    "outfilejson = \"../tensors/tensors_labeled.json\"\n",
    "\n",
    "json_data = dict()\n",
    "json_data['embeddings'] = list()\n",
    "\n",
    "for m in genre_models:\n",
    "    print(\"starting: {0}\".format(m[0]))\n",
    "    model_vocab = list(m[1].vocab)\n",
    "    \n",
    "    tensor_filename = \"../tensors/\" + m[0] \n",
    "    outfiletsv = tensor_filename + '_labels_tensor.tsv'\n",
    "    outfiletsvmeta = tensor_filename + '_labels_metadata.tsv'\n",
    "        \n",
    "    with open(outfiletsv, 'wt') as file_vector:\n",
    "        with open(outfiletsvmeta, 'wt',encoding='utf-8') as file_metadata:\n",
    "            file_metadata.write(\"Term\\tCategory\\n\")\n",
    "            for word in all_terms:\n",
    "                if word in model_vocab:\n",
    "                    file_metadata.write(word + \"\\t\" + all_terms[word] + '\\n')\n",
    "                    vector_row = '\\t'.join(str(x) for x in m[1][word])\n",
    "                    file_vector.write(vector_row + '\\n')\n",
    "                \n",
    "    shape = [1000,50]\n",
    "    json_data['embeddings'].append({\n",
    "        'tensorName': str(m[0]),\n",
    "        'tensorPath': 'https://raw.githubusercontent.com/jeddobson/htrc-vector-project/master/tensors/' + m[0] + '_labels_tensor.tsv',\n",
    "        'metadataPath': 'https://raw.githubusercontent.com/jeddobson/htrc-vector-project/master/tensors/' + m[0] + '_labels_metadata.tsv',\n",
    "        'tensorShape' : shape\n",
    "    })"
   ]
  },
  {
   "cell_type": "code",
   "execution_count": null,
   "metadata": {},
   "outputs": [],
   "source": [
    "with open(outfilejson, 'wt') as f:\n",
    "    json.dump(json_data, f)"
   ]
  },
  {
   "cell_type": "code",
   "execution_count": null,
   "metadata": {},
   "outputs": [],
   "source": []
  }
 ],
 "metadata": {
  "kernelspec": {
   "display_name": "Python 3",
   "language": "python",
   "name": "python3"
  },
  "language_info": {
   "codemirror_mode": {
    "name": "ipython",
    "version": 3
   },
   "file_extension": ".py",
   "mimetype": "text/x-python",
   "name": "python",
   "nbconvert_exporter": "python",
   "pygments_lexer": "ipython3",
   "version": "3.7.5"
  }
 },
 "nbformat": 4,
 "nbformat_minor": 4
}
