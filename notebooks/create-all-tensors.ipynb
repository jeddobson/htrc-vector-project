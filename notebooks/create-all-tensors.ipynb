{
 "cells": [
  {
   "cell_type": "code",
   "execution_count": 3,
   "metadata": {},
   "outputs": [],
   "source": [
    "import itertools\n",
    "import csv\n",
    "import os, sys\n",
    "import gensim\n",
    "import json\n",
    "import bz2\n",
    "import gensim.models.keyedvectors as kv\n",
    "from gensim.models import KeyedVectors"
   ]
  },
  {
   "cell_type": "code",
   "execution_count": 4,
   "metadata": {},
   "outputs": [],
   "source": [
    "rows=list()\n",
    "# open Harvard Inquirer\n",
    "with open('../lexicons/Harvard_Inquirer-inqtabs.txt', 'rt') as csvfile:\n",
    "    reader = csv.reader(csvfile, delimiter='\\t')\n",
    "    for i,row in enumerate(reader):\n",
    "        if i == 0:\n",
    "            header = row\n",
    "        else:\n",
    "            rows.append(row)\n",
    "\n",
    "# extract words of interest\n",
    "categories = [\"Pleasur\",\"Pain\",\"Feel\",\"Arousal\", \"Polit@\", \"Relig\"]\n",
    "inquirer = dict()\n",
    "for c in categories:\n",
    "   \n",
    "    # extract index from header\n",
    "    idx = header.index(c)\n",
    "   \n",
    "    # extract words and drop to lowercase\n",
    "    inquirer[c] = [w[0].lower() for w in rows if w[idx] != '']\n",
    "   \n",
    "    # remove alternate meanings and reduce duplicates\n",
    "    inquirer[c] = list(set([w.split(\"#\")[0] for w in inquirer[c]]))"
   ]
  },
  {
   "cell_type": "code",
   "execution_count": 7,
   "metadata": {},
   "outputs": [],
   "source": [
    "pleasure_terms = inquirer['Pleasur']\n",
    "pain_terms = inquirer['Pain']\n",
    "feel_terms = inquirer['Feel']\n",
    "arousal_terms = inquirer['Arousal']\n",
    "political_terms = inquirer['Polit@']\n",
    "religious_terms = inquirer['Relig']\n",
    "\n",
    "all_terms = list(itertools.chain(pleasure_terms, pain_terms, feel_terms, arousal_terms, political_terms, religious_terms))"
   ]
  },
  {
   "cell_type": "code",
   "execution_count": 8,
   "metadata": {},
   "outputs": [
    {
     "name": "stdout",
     "output_type": "stream",
     "text": [
      "starting: drama-17412\n",
      "starting: poetry-56817\n"
     ]
    }
   ],
   "source": [
    "eebo_models=list()\n",
    "input_data = [\"../models/drama-17412.w2v.bz2\",\n",
    "             \"../models/poetry-56817.w2v.bz2\"]\n",
    "\n",
    "for f in input_data:\n",
    "    model_name = os.path.basename(f).split(\".\")[0]\n",
    "    print(\"starting: {0}\".format(model_name))\n",
    "    model = kv.KeyedVectors.load_word2vec_format(bz2.open(f))\n",
    "    eebo_models.append([model_name,model])"
   ]
  },
  {
   "cell_type": "code",
   "execution_count": 9,
   "metadata": {},
   "outputs": [
    {
     "name": "stdout",
     "output_type": "stream",
     "text": [
      "drama-17412\n",
      "poetry-56817\n"
     ]
    }
   ],
   "source": [
    "outfilejson = \"../tensors/tensors_all.json\"\n",
    "\n",
    "json_data = dict()\n",
    "json_data['embeddings'] = list()\n",
    "\n",
    "# limit model\n",
    "key_terms = [\"religion\",\"church\",\"self\",\"fate\",\"reformation\",\n",
    "             \"elect\",\"protestant\",\"chosen\",\"faith\",\n",
    "             \"predestination\"]\n",
    "\n",
    "for m in eebo_models:\n",
    "    print(m[0])\n",
    "    \n",
    "    tensor_filename = \"../tensors/\" + m[0] \n",
    "    outfiletsv = tensor_filename + '_tensor.tsv'\n",
    "    outfiletsvmeta = tensor_filename + '_metadata.tsv'\n",
    "    \n",
    "    vectors=list()\n",
    "    vocab=list()\n",
    "    for t in key_terms:\n",
    "        if t in m[1].vocab:\n",
    "            nn = [x[0] for x in m[1].most_similar(t,topn=100)]\n",
    "            for n in nn:\n",
    "                vocab.append(n)\n",
    "    vocab = set(vocab)\n",
    "    \n",
    "    with open(outfiletsv, 'wt') as file_vector:\n",
    "        with open(outfiletsvmeta, 'wt',encoding='utf-8') as file_metadata:\n",
    "            for word in vocab:\n",
    "                file_metadata.write(word + '\\n')\n",
    "                vector_row = '\\t'.join(str(x) for x in m[1][word])\n",
    "                file_vector.write(vector_row + '\\n')\n",
    "                \n",
    "    shape = [1000,50]\n",
    "    json_data['embeddings'].append({\n",
    "        'tensorName': str(m[0]),\n",
    "        'tensorPath': 'https://raw.githubusercontent.com/jeddobson/htrc-vector-project/master/tensors/' + m[0] + '_tensor.tsv',\n",
    "        'metadataPath': 'https://raw.githubusercontent.com/jeddobson/htrc-vector-project/master/tensors/' + m[0] + '_metadata.tsv',\n",
    "        'tensorShape' : shape\n",
    "    })"
   ]
  },
  {
   "cell_type": "code",
   "execution_count": 10,
   "metadata": {},
   "outputs": [],
   "source": [
    "with open(outfilejson, 'wt') as f:\n",
    "    json.dump(json_data, f)"
   ]
  },
  {
   "cell_type": "code",
   "execution_count": null,
   "metadata": {},
   "outputs": [],
   "source": []
  },
  {
   "cell_type": "code",
   "execution_count": null,
   "metadata": {},
   "outputs": [],
   "source": []
  },
  {
   "cell_type": "code",
   "execution_count": null,
   "metadata": {},
   "outputs": [],
   "source": []
  }
 ],
 "metadata": {
  "kernelspec": {
   "display_name": "Python 3",
   "language": "python",
   "name": "python3"
  },
  "language_info": {
   "codemirror_mode": {
    "name": "ipython",
    "version": 3
   },
   "file_extension": ".py",
   "mimetype": "text/x-python",
   "name": "python",
   "nbconvert_exporter": "python",
   "pygments_lexer": "ipython3",
   "version": "3.7.3"
  }
 },
 "nbformat": 4,
 "nbformat_minor": 4
}
