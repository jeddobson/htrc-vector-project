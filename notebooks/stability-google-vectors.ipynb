{
 "cells": [
  {
   "cell_type": "code",
   "execution_count": 1,
   "metadata": {
    "collapsed": false
   },
   "outputs": [],
   "source": [
    "import csv\n",
    "import gensim.models.keyedvectors as kv\n",
    "\n",
    "from sklearn import cluster\n",
    "import numpy as np\n",
    "\n",
    "import nltk\n",
    "from nltk.corpus import stopwords\n",
    "\n",
    "model = kv.KeyedVectors.load_word2vec_format(\"google-vectors.w2v\",binary=True)"
   ]
  },
  {
   "cell_type": "code",
   "execution_count": 2,
   "metadata": {
    "collapsed": true
   },
   "outputs": [],
   "source": [
    "# create vocab list\n",
    "vocab = list(model.vocab)"
   ]
  },
  {
   "cell_type": "code",
   "execution_count": 3,
   "metadata": {
    "collapsed": true
   },
   "outputs": [],
   "source": [
    "rows=list()\n",
    "# open Harvard Inquirer\n",
    "with open('lexicons/Harvard_Inquirer-inqtabs.txt', 'rt') as csvfile:\n",
    "    reader = csv.reader(csvfile, delimiter='\\t')\n",
    "    for i,row in enumerate(reader):\n",
    "        if i == 0:\n",
    "            header = row\n",
    "        else:\n",
    "            rows.append(row)"
   ]
  },
  {
   "cell_type": "code",
   "execution_count": 4,
   "metadata": {
    "collapsed": false
   },
   "outputs": [],
   "source": [
    "# extract words of interest\n",
    "categories = [\"Pleasur\",\"Pain\",\"Feel\",\"Arousal\",\"Relig\",\"Exprsv\",\"Polit@\"]\n",
    "inquirer = dict()\n",
    "for c in categories:\n",
    "    \n",
    "    # extract index from header\n",
    "    idx = header.index(c)\n",
    "    \n",
    "    # extract words and drop to lowercase\n",
    "    inquirer[c] = [w[0].lower() for w in rows if w[idx] != '']\n",
    "    \n",
    "    # remove alternate meanings and reduce duplicates\n",
    "    inquirer[c] = list(set([w.split(\"#\")[0] for w in inquirer[c]]))"
   ]
  },
  {
   "cell_type": "code",
   "execution_count": 5,
   "metadata": {
    "collapsed": true
   },
   "outputs": [],
   "source": [
    "# category stability calculates mean distance from the center\n",
    "# where the center of the group is calculated using kMeans\n",
    "# clustering with a single cluster.\n",
    "\n",
    "def get_category_stability_kmeans(vectors):\n",
    "    kmeans = cluster.KMeans(n_clusters=1)\n",
    "    fitted = kmeans.fit_transform(vectors)\n",
    "    centroids = kmeans.cluster_centers_\n",
    "    fitted_dist = kmeans.transform(vectors)**2\n",
    "    return(np.mean(fitted_dist))"
   ]
  },
  {
   "cell_type": "code",
   "execution_count": 6,
   "metadata": {
    "collapsed": false
   },
   "outputs": [
    {
     "name": "stdout",
     "output_type": "stream",
     "text": [
      "Starting stopwords\n",
      " vocab found 100.0%\n",
      " category stability: 299.58984375\n",
      "Starting junk terms\n",
      " category stability: 365.0558776855469\n"
     ]
    }
   ],
   "source": [
    "# run some sanity checks first.\n",
    "# stopword category\n",
    "print(\"Starting stopwords\")\n",
    "sw = [w for w in stopwords.words('english')]\n",
    "cc = len(sw)\n",
    "mv = [w for w in vocab if w in sw]\n",
    "vc = len(mv)\n",
    "print(\" vocab found {0}%\".format(round(vc/cc*100,2)))\n",
    "vectors = model[mv]\n",
    "vcs = get_category_stability_kmeans(vectors)\n",
    "print(\" category stability: {0}\".format(vcs))\n",
    "\n",
    "# a junk term category\n",
    "terms = [\"one\",\"the\",\"inside\",\"president\",\"yellow\",\"loud\",\"winter\",\"pain\",\"pleasure\"]\n",
    "vectors = model[terms]\n",
    "print(\"Starting junk terms\")\n",
    "vcs = get_category_stability_kmeans(vectors)\n",
    "print(\" category stability: {0}\".format(vcs))"
   ]
  },
  {
   "cell_type": "code",
   "execution_count": 7,
   "metadata": {
    "collapsed": false
   },
   "outputs": [
    {
     "name": "stdout",
     "output_type": "stream",
     "text": [
      "Starting category: Arousal\n",
      " vocab found 88.28%\n",
      " category stability: 252.06033325195312\n",
      "Starting category: Relig\n",
      " vocab found 100.0%\n",
      " category stability: 392.3981628417969\n",
      "Starting category: Pleasur\n",
      " vocab found 84.77%\n",
      " category stability: 226.98109436035156\n",
      "Starting category: Feel\n",
      " vocab found 77.55%\n",
      " category stability: 124.57455444335938\n",
      "Starting category: Polit@\n",
      " vocab found 98.34%\n",
      " category stability: 447.9237060546875\n",
      "Starting category: Pain\n",
      " vocab found 80.09%\n",
      " category stability: 175.10206604003906\n",
      "Starting category: Exprsv\n",
      " vocab found 98.94%\n",
      " category stability: 429.0830078125\n"
     ]
    }
   ],
   "source": [
    "labels=list()\n",
    "data=list()\n",
    "for category in inquirer.keys():\n",
    "    print(\"Starting category:\",category)\n",
    "    labels.append(category)\n",
    "    cc = len(inquirer[category])\n",
    "    mv = [w for w in vocab if w in inquirer[category]]\n",
    "    vc = len(mv)\n",
    "    print(\" vocab found {0}%\".format(round(vc/cc*100,2)))\n",
    "    vectors = model[mv]\n",
    "    vcs = get_category_stability_kmeans(vectors)\n",
    "    data.append(vcs)\n",
    "    print(\" category stability: {0}\".format(vcs))"
   ]
  },
  {
   "cell_type": "code",
   "execution_count": 8,
   "metadata": {
    "collapsed": false
   },
   "outputs": [
    {
     "data": {
      "image/png": "[encoded data removed]",
      "text/plain": [
       "<Figure size 432x288 with 1 Axes>"
      ]
     },
     "metadata": {},
     "output_type": "display_data"
    }
   ],
   "source": [
    "from matplotlib import pyplot as plt\n",
    "%matplotlib inline\n",
    "plt.title(\"Google News: Category Coherency\")\n",
    "plt.bar(labels,data)\n",
    "plt.show()"
   ]
  },
  {
   "cell_type": "code",
   "execution_count": 9,
   "metadata": {
    "collapsed": false
   },
   "outputs": [],
   "source": [
    "# now run through for smaller poems vector set\n",
    "import bz2\n",
    "model = kv.KeyedVectors.load_word2vec_format(bz2.open(\"poems.w2v.bz2\"))"
   ]
  },
  {
   "cell_type": "code",
   "execution_count": 10,
   "metadata": {
    "collapsed": false
   },
   "outputs": [
    {
     "name": "stdout",
     "output_type": "stream",
     "text": [
      "Starting category: Arousal\n",
      " vocab found 96.55%\n",
      " category stability: 1397.0972900390625\n",
      "Starting category: Relig\n",
      " vocab found 98.95%\n",
      " category stability: 1768.0919189453125\n",
      "Starting category: Pleasur\n",
      " vocab found 96.69%\n",
      " category stability: 1487.5635986328125\n",
      "Starting category: Feel\n",
      " vocab found 93.88%\n",
      " category stability: 878.1744384765625\n",
      "Starting category: Polit@\n",
      " vocab found 97.51%\n",
      " category stability: 1229.2825927734375\n",
      "Starting category: Pain\n",
      " vocab found 96.83%\n",
      " category stability: 1221.5709228515625\n",
      "Starting category: Exprsv\n",
      " vocab found 97.34%\n",
      " category stability: 1704.7332763671875\n"
     ]
    },
    {
     "data": {
      "image/png": "[encoded data removed]",
      "text/plain": [
       "<Figure size 432x288 with 1 Axes>"
      ]
     },
     "metadata": {},
     "output_type": "display_data"
    }
   ],
   "source": [
    "# create vocab list\n",
    "vocab = list(model.vocab)\n",
    "\n",
    "labels=list()\n",
    "data=list()\n",
    "for category in inquirer.keys():\n",
    "    print(\"Starting category:\",category)\n",
    "    labels.append(category)\n",
    "    cc = len(inquirer[category])\n",
    "    mv = [w for w in vocab if w in inquirer[category]]\n",
    "    vc = len(mv)\n",
    "    print(\" vocab found {0}%\".format(round(vc/cc*100,2)))\n",
    "    vectors = model[mv]\n",
    "    vcs = get_category_stability_kmeans(vectors)\n",
    "    data.append(vcs)\n",
    "    print(\" category stability: {0}\".format(vcs))\n",
    "\n",
    "from matplotlib import pyplot as plt\n",
    "%matplotlib inline\n",
    "plt.title(\"HTRC Poetry: Category Coherency\")\n",
    "plt.bar(labels,data)\n",
    "plt.show()"
   ]
  },
  {
   "cell_type": "code",
   "execution_count": null,
   "metadata": {
    "collapsed": true
   },
   "outputs": [],
   "source": []
  }
 ],
 "metadata": {
  "kernelspec": {
   "display_name": "Python 3",
   "language": "python",
   "name": "python3"
  },
  "language_info": {
   "codemirror_mode": {
    "name": "ipython",
    "version": 3
   },
   "file_extension": ".py",
   "mimetype": "text/x-python",
   "name": "python",
   "nbconvert_exporter": "python",
   "pygments_lexer": "ipython3",
   "version": "3.5.9"
  }
 },
 "nbformat": 4,
 "nbformat_minor": 2
}
